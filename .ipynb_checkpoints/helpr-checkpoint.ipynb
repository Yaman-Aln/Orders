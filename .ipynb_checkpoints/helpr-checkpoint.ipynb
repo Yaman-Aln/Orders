{
 "cells": [
  {
   "cell_type": "code",
   "execution_count": null,
   "metadata": {},
   "outputs": [],
   "source": [
    "import pandas as pd\n",
    "drive_url = 'Downloads/Yaman_Gits/Hatchways/'"
   ]
  },
  {
   "cell_type": "code",
   "execution_count": 2,
   "metadata": {},
   "outputs": [],
   "source": [
    "#Reads text files and saves into a dataframe\n",
    "def read_file(input_files):\n",
    "    list_df = []\n",
    "    \n",
    "    for file in files:\n",
    "        df = pd.read_csv(drive_url+file)\n",
    "        list_df.append(df)\n",
    "        \n",
    "    return list_df"
   ]
  },
  {
   "cell_type": "code",
   "execution_count": 3,
   "metadata": {},
   "outputs": [],
   "source": [
    "#Outputs dataframes into text file, make sure file has .txt extension\n",
    "def output_file(list_df_file):\n",
    "    for (df, file) in list_df_file:\n",
    "        df_to_csv(drive_url+file, index=False)"
   ]
  },
  {
   "cell_type": "code",
   "execution_count": null,
   "metadata": {},
   "outputs": [],
   "source": [
    "#Extract column from dataframes\n",
    "def col_data(list_df_col):\n",
    "    list_df_ecd = []\n",
    "    \n",
    "    for (df, cols) in list_df_cols:\n",
    "        df = df[cols]\n",
    "        list_df_ecd.append(df)\n",
    "        \n",
    "    return list_df_ecd"
   ]
  }
 ],
 "metadata": {
  "kernelspec": {
   "display_name": "Python 3",
   "language": "python",
   "name": "python3"
  },
  "language_info": {
   "codemirror_mode": {
    "name": "ipython",
    "version": 3
   },
   "file_extension": ".py",
   "mimetype": "text/x-python",
   "name": "python",
   "nbconvert_exporter": "python",
   "pygments_lexer": "ipython3",
   "version": "3.7.1"
  }
 },
 "nbformat": 4,
 "nbformat_minor": 2
}
